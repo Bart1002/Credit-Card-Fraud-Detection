{
 "cells": [
  {
   "cell_type": "code",
   "execution_count": 1,
   "metadata": {},
   "outputs": [],
   "source": [
    "import pandas as pd\n",
    "import numpy as np\n",
    "import itertools\n",
    "import matplotlib.pyplot as plt\n",
    "%matplotlib inline\n",
    "import seaborn as sns\n",
    "\n",
    "\n",
    "from sklearn.model_selection import train_test_split,StratifiedKFold\n",
    "from sklearn.pipeline import make_pipeline\n",
    "from sklearn.preprocessing import StandardScaler\n",
    "from sklearn.linear_model import LogisticRegression\n",
    "from sklearn.metrics import auc,confusion_matrix,roc_auc_score,log_loss,plot_roc_curve,roc_curve,precision_score\n",
    "from sklearn.svm import SVC,NuSVC,LinearSVC\n",
    "\n",
    "np.random.seed(511)"
   ]
  },
  {
   "cell_type": "code",
   "execution_count": 2,
   "metadata": {},
   "outputs": [],
   "source": [
    "df = pd.read_csv('creditcard.csv')"
   ]
  },
  {
   "cell_type": "code",
   "execution_count": 3,
   "metadata": {},
   "outputs": [
    {
     "data": {
      "text/plain": [
       "0    284315\n",
       "1       492\n",
       "Name: Class, dtype: int64"
      ]
     },
     "execution_count": 3,
     "metadata": {},
     "output_type": "execute_result"
    }
   ],
   "source": [
    "df['Class'].value_counts()"
   ]
  },
  {
   "cell_type": "markdown",
   "metadata": {},
   "source": [
    "## Use underspamling to deal with unbalanced data"
   ]
  },
  {
   "cell_type": "code",
   "execution_count": 4,
   "metadata": {},
   "outputs": [],
   "source": [
    "class_1_index = df.query('Class == 1').index.to_list()\n",
    "class_0_index_undersampled = np.random.choice(df.query('Class == 0').index.to_list(),len(class_1_index))"
   ]
  },
  {
   "cell_type": "code",
   "execution_count": 5,
   "metadata": {},
   "outputs": [],
   "source": [
    "undersample_df = df.loc[np.concatenate([class_1_index,class_0_index_undersampled])]\n",
    "df_without_undersampled = df.drop(undersample_df.index)"
   ]
  },
  {
   "cell_type": "code",
   "execution_count": 6,
   "metadata": {},
   "outputs": [],
   "source": [
    "undersampled_df= undersample_df.reset_index(drop=True)\n",
    "df_without_undersampled = df_without_undersampled.reset_index(drop=True)"
   ]
  },
  {
   "cell_type": "code",
   "execution_count": 7,
   "metadata": {},
   "outputs": [
    {
     "data": {
      "text/html": [
       "<div>\n",
       "<style scoped>\n",
       "    .dataframe tbody tr th:only-of-type {\n",
       "        vertical-align: middle;\n",
       "    }\n",
       "\n",
       "    .dataframe tbody tr th {\n",
       "        vertical-align: top;\n",
       "    }\n",
       "\n",
       "    .dataframe thead th {\n",
       "        text-align: right;\n",
       "    }\n",
       "</style>\n",
       "<table border=\"1\" class=\"dataframe\">\n",
       "  <thead>\n",
       "    <tr style=\"text-align: right;\">\n",
       "      <th></th>\n",
       "      <th>Time</th>\n",
       "      <th>V1</th>\n",
       "      <th>V2</th>\n",
       "      <th>V3</th>\n",
       "      <th>V4</th>\n",
       "      <th>V5</th>\n",
       "      <th>V6</th>\n",
       "      <th>V7</th>\n",
       "      <th>V8</th>\n",
       "      <th>V9</th>\n",
       "      <th>...</th>\n",
       "      <th>V21</th>\n",
       "      <th>V22</th>\n",
       "      <th>V23</th>\n",
       "      <th>V24</th>\n",
       "      <th>V25</th>\n",
       "      <th>V26</th>\n",
       "      <th>V27</th>\n",
       "      <th>V28</th>\n",
       "      <th>Amount</th>\n",
       "      <th>Class</th>\n",
       "    </tr>\n",
       "  </thead>\n",
       "  <tbody>\n",
       "    <tr>\n",
       "      <th>0</th>\n",
       "      <td>406.0</td>\n",
       "      <td>-2.312227</td>\n",
       "      <td>1.951992</td>\n",
       "      <td>-1.609851</td>\n",
       "      <td>3.997906</td>\n",
       "      <td>-0.522188</td>\n",
       "      <td>-1.426545</td>\n",
       "      <td>-2.537387</td>\n",
       "      <td>1.391657</td>\n",
       "      <td>-2.770089</td>\n",
       "      <td>...</td>\n",
       "      <td>0.517232</td>\n",
       "      <td>-0.035049</td>\n",
       "      <td>-0.465211</td>\n",
       "      <td>0.320198</td>\n",
       "      <td>0.044519</td>\n",
       "      <td>0.177840</td>\n",
       "      <td>0.261145</td>\n",
       "      <td>-0.143276</td>\n",
       "      <td>0.00</td>\n",
       "      <td>1</td>\n",
       "    </tr>\n",
       "    <tr>\n",
       "      <th>1</th>\n",
       "      <td>472.0</td>\n",
       "      <td>-3.043541</td>\n",
       "      <td>-3.157307</td>\n",
       "      <td>1.088463</td>\n",
       "      <td>2.288644</td>\n",
       "      <td>1.359805</td>\n",
       "      <td>-1.064823</td>\n",
       "      <td>0.325574</td>\n",
       "      <td>-0.067794</td>\n",
       "      <td>-0.270953</td>\n",
       "      <td>...</td>\n",
       "      <td>0.661696</td>\n",
       "      <td>0.435477</td>\n",
       "      <td>1.375966</td>\n",
       "      <td>-0.293803</td>\n",
       "      <td>0.279798</td>\n",
       "      <td>-0.145362</td>\n",
       "      <td>-0.252773</td>\n",
       "      <td>0.035764</td>\n",
       "      <td>529.00</td>\n",
       "      <td>1</td>\n",
       "    </tr>\n",
       "    <tr>\n",
       "      <th>2</th>\n",
       "      <td>4462.0</td>\n",
       "      <td>-2.303350</td>\n",
       "      <td>1.759247</td>\n",
       "      <td>-0.359745</td>\n",
       "      <td>2.330243</td>\n",
       "      <td>-0.821628</td>\n",
       "      <td>-0.075788</td>\n",
       "      <td>0.562320</td>\n",
       "      <td>-0.399147</td>\n",
       "      <td>-0.238253</td>\n",
       "      <td>...</td>\n",
       "      <td>-0.294166</td>\n",
       "      <td>-0.932391</td>\n",
       "      <td>0.172726</td>\n",
       "      <td>-0.087330</td>\n",
       "      <td>-0.156114</td>\n",
       "      <td>-0.542628</td>\n",
       "      <td>0.039566</td>\n",
       "      <td>-0.153029</td>\n",
       "      <td>239.93</td>\n",
       "      <td>1</td>\n",
       "    </tr>\n",
       "    <tr>\n",
       "      <th>3</th>\n",
       "      <td>6986.0</td>\n",
       "      <td>-4.397974</td>\n",
       "      <td>1.358367</td>\n",
       "      <td>-2.592844</td>\n",
       "      <td>2.679787</td>\n",
       "      <td>-1.128131</td>\n",
       "      <td>-1.706536</td>\n",
       "      <td>-3.496197</td>\n",
       "      <td>-0.248778</td>\n",
       "      <td>-0.247768</td>\n",
       "      <td>...</td>\n",
       "      <td>0.573574</td>\n",
       "      <td>0.176968</td>\n",
       "      <td>-0.436207</td>\n",
       "      <td>-0.053502</td>\n",
       "      <td>0.252405</td>\n",
       "      <td>-0.657488</td>\n",
       "      <td>-0.827136</td>\n",
       "      <td>0.849573</td>\n",
       "      <td>59.00</td>\n",
       "      <td>1</td>\n",
       "    </tr>\n",
       "    <tr>\n",
       "      <th>4</th>\n",
       "      <td>7519.0</td>\n",
       "      <td>1.234235</td>\n",
       "      <td>3.019740</td>\n",
       "      <td>-4.304597</td>\n",
       "      <td>4.732795</td>\n",
       "      <td>3.624201</td>\n",
       "      <td>-1.357746</td>\n",
       "      <td>1.713445</td>\n",
       "      <td>-0.496358</td>\n",
       "      <td>-1.282858</td>\n",
       "      <td>...</td>\n",
       "      <td>-0.379068</td>\n",
       "      <td>-0.704181</td>\n",
       "      <td>-0.656805</td>\n",
       "      <td>-1.632653</td>\n",
       "      <td>1.488901</td>\n",
       "      <td>0.566797</td>\n",
       "      <td>-0.010016</td>\n",
       "      <td>0.146793</td>\n",
       "      <td>1.00</td>\n",
       "      <td>1</td>\n",
       "    </tr>\n",
       "    <tr>\n",
       "      <th>...</th>\n",
       "      <td>...</td>\n",
       "      <td>...</td>\n",
       "      <td>...</td>\n",
       "      <td>...</td>\n",
       "      <td>...</td>\n",
       "      <td>...</td>\n",
       "      <td>...</td>\n",
       "      <td>...</td>\n",
       "      <td>...</td>\n",
       "      <td>...</td>\n",
       "      <td>...</td>\n",
       "      <td>...</td>\n",
       "      <td>...</td>\n",
       "      <td>...</td>\n",
       "      <td>...</td>\n",
       "      <td>...</td>\n",
       "      <td>...</td>\n",
       "      <td>...</td>\n",
       "      <td>...</td>\n",
       "      <td>...</td>\n",
       "      <td>...</td>\n",
       "    </tr>\n",
       "    <tr>\n",
       "      <th>979</th>\n",
       "      <td>62857.0</td>\n",
       "      <td>1.149368</td>\n",
       "      <td>0.494498</td>\n",
       "      <td>0.264436</td>\n",
       "      <td>2.286618</td>\n",
       "      <td>0.223645</td>\n",
       "      <td>0.526043</td>\n",
       "      <td>-0.355200</td>\n",
       "      <td>0.279019</td>\n",
       "      <td>-0.549901</td>\n",
       "      <td>...</td>\n",
       "      <td>-0.162837</td>\n",
       "      <td>-0.620193</td>\n",
       "      <td>-0.081088</td>\n",
       "      <td>-0.984230</td>\n",
       "      <td>0.294490</td>\n",
       "      <td>-0.091410</td>\n",
       "      <td>0.018143</td>\n",
       "      <td>0.041069</td>\n",
       "      <td>22.82</td>\n",
       "      <td>0</td>\n",
       "    </tr>\n",
       "    <tr>\n",
       "      <th>980</th>\n",
       "      <td>24260.0</td>\n",
       "      <td>-0.496666</td>\n",
       "      <td>1.123280</td>\n",
       "      <td>2.014938</td>\n",
       "      <td>3.121792</td>\n",
       "      <td>0.621770</td>\n",
       "      <td>2.066100</td>\n",
       "      <td>-0.077806</td>\n",
       "      <td>0.620692</td>\n",
       "      <td>0.442944</td>\n",
       "      <td>...</td>\n",
       "      <td>-0.010878</td>\n",
       "      <td>0.716024</td>\n",
       "      <td>0.042833</td>\n",
       "      <td>-0.663398</td>\n",
       "      <td>-0.696860</td>\n",
       "      <td>0.323910</td>\n",
       "      <td>0.474629</td>\n",
       "      <td>0.208177</td>\n",
       "      <td>4.54</td>\n",
       "      <td>0</td>\n",
       "    </tr>\n",
       "    <tr>\n",
       "      <th>981</th>\n",
       "      <td>69078.0</td>\n",
       "      <td>1.252498</td>\n",
       "      <td>-0.686824</td>\n",
       "      <td>0.388071</td>\n",
       "      <td>-0.598697</td>\n",
       "      <td>-1.250119</td>\n",
       "      <td>-0.918580</td>\n",
       "      <td>-0.482352</td>\n",
       "      <td>-0.060118</td>\n",
       "      <td>-0.988911</td>\n",
       "      <td>...</td>\n",
       "      <td>-0.513256</td>\n",
       "      <td>-1.227555</td>\n",
       "      <td>0.179721</td>\n",
       "      <td>0.495104</td>\n",
       "      <td>-0.057732</td>\n",
       "      <td>0.786329</td>\n",
       "      <td>-0.080847</td>\n",
       "      <td>0.007204</td>\n",
       "      <td>51.92</td>\n",
       "      <td>0</td>\n",
       "    </tr>\n",
       "    <tr>\n",
       "      <th>982</th>\n",
       "      <td>59481.0</td>\n",
       "      <td>-0.276401</td>\n",
       "      <td>0.556521</td>\n",
       "      <td>2.629351</td>\n",
       "      <td>0.663334</td>\n",
       "      <td>-0.218386</td>\n",
       "      <td>-0.016690</td>\n",
       "      <td>0.481130</td>\n",
       "      <td>-0.326239</td>\n",
       "      <td>0.642324</td>\n",
       "      <td>...</td>\n",
       "      <td>-0.077559</td>\n",
       "      <td>0.275742</td>\n",
       "      <td>-0.232685</td>\n",
       "      <td>0.394981</td>\n",
       "      <td>-0.073803</td>\n",
       "      <td>-0.519297</td>\n",
       "      <td>-0.353894</td>\n",
       "      <td>-0.407319</td>\n",
       "      <td>9.99</td>\n",
       "      <td>0</td>\n",
       "    </tr>\n",
       "    <tr>\n",
       "      <th>983</th>\n",
       "      <td>61080.0</td>\n",
       "      <td>-1.245487</td>\n",
       "      <td>1.743007</td>\n",
       "      <td>0.113529</td>\n",
       "      <td>0.543715</td>\n",
       "      <td>-0.004504</td>\n",
       "      <td>0.265994</td>\n",
       "      <td>-0.132661</td>\n",
       "      <td>1.082509</td>\n",
       "      <td>-0.873145</td>\n",
       "      <td>...</td>\n",
       "      <td>0.192479</td>\n",
       "      <td>0.530908</td>\n",
       "      <td>-0.119070</td>\n",
       "      <td>-0.663848</td>\n",
       "      <td>-0.114196</td>\n",
       "      <td>-0.252383</td>\n",
       "      <td>0.287163</td>\n",
       "      <td>0.135394</td>\n",
       "      <td>5.31</td>\n",
       "      <td>0</td>\n",
       "    </tr>\n",
       "  </tbody>\n",
       "</table>\n",
       "<p>984 rows × 31 columns</p>\n",
       "</div>"
      ],
      "text/plain": [
       "        Time        V1        V2        V3        V4        V5        V6  \\\n",
       "0      406.0 -2.312227  1.951992 -1.609851  3.997906 -0.522188 -1.426545   \n",
       "1      472.0 -3.043541 -3.157307  1.088463  2.288644  1.359805 -1.064823   \n",
       "2     4462.0 -2.303350  1.759247 -0.359745  2.330243 -0.821628 -0.075788   \n",
       "3     6986.0 -4.397974  1.358367 -2.592844  2.679787 -1.128131 -1.706536   \n",
       "4     7519.0  1.234235  3.019740 -4.304597  4.732795  3.624201 -1.357746   \n",
       "..       ...       ...       ...       ...       ...       ...       ...   \n",
       "979  62857.0  1.149368  0.494498  0.264436  2.286618  0.223645  0.526043   \n",
       "980  24260.0 -0.496666  1.123280  2.014938  3.121792  0.621770  2.066100   \n",
       "981  69078.0  1.252498 -0.686824  0.388071 -0.598697 -1.250119 -0.918580   \n",
       "982  59481.0 -0.276401  0.556521  2.629351  0.663334 -0.218386 -0.016690   \n",
       "983  61080.0 -1.245487  1.743007  0.113529  0.543715 -0.004504  0.265994   \n",
       "\n",
       "           V7        V8        V9  ...       V21       V22       V23  \\\n",
       "0   -2.537387  1.391657 -2.770089  ...  0.517232 -0.035049 -0.465211   \n",
       "1    0.325574 -0.067794 -0.270953  ...  0.661696  0.435477  1.375966   \n",
       "2    0.562320 -0.399147 -0.238253  ... -0.294166 -0.932391  0.172726   \n",
       "3   -3.496197 -0.248778 -0.247768  ...  0.573574  0.176968 -0.436207   \n",
       "4    1.713445 -0.496358 -1.282858  ... -0.379068 -0.704181 -0.656805   \n",
       "..        ...       ...       ...  ...       ...       ...       ...   \n",
       "979 -0.355200  0.279019 -0.549901  ... -0.162837 -0.620193 -0.081088   \n",
       "980 -0.077806  0.620692  0.442944  ... -0.010878  0.716024  0.042833   \n",
       "981 -0.482352 -0.060118 -0.988911  ... -0.513256 -1.227555  0.179721   \n",
       "982  0.481130 -0.326239  0.642324  ... -0.077559  0.275742 -0.232685   \n",
       "983 -0.132661  1.082509 -0.873145  ...  0.192479  0.530908 -0.119070   \n",
       "\n",
       "          V24       V25       V26       V27       V28  Amount  Class  \n",
       "0    0.320198  0.044519  0.177840  0.261145 -0.143276    0.00      1  \n",
       "1   -0.293803  0.279798 -0.145362 -0.252773  0.035764  529.00      1  \n",
       "2   -0.087330 -0.156114 -0.542628  0.039566 -0.153029  239.93      1  \n",
       "3   -0.053502  0.252405 -0.657488 -0.827136  0.849573   59.00      1  \n",
       "4   -1.632653  1.488901  0.566797 -0.010016  0.146793    1.00      1  \n",
       "..        ...       ...       ...       ...       ...     ...    ...  \n",
       "979 -0.984230  0.294490 -0.091410  0.018143  0.041069   22.82      0  \n",
       "980 -0.663398 -0.696860  0.323910  0.474629  0.208177    4.54      0  \n",
       "981  0.495104 -0.057732  0.786329 -0.080847  0.007204   51.92      0  \n",
       "982  0.394981 -0.073803 -0.519297 -0.353894 -0.407319    9.99      0  \n",
       "983 -0.663848 -0.114196 -0.252383  0.287163  0.135394    5.31      0  \n",
       "\n",
       "[984 rows x 31 columns]"
      ]
     },
     "execution_count": 7,
     "metadata": {},
     "output_type": "execute_result"
    }
   ],
   "source": [
    "undersampled_df"
   ]
  },
  {
   "cell_type": "code",
   "execution_count": 8,
   "metadata": {},
   "outputs": [],
   "source": [
    "n_folds = 5\n",
    "cv = StratifiedKFold(n_folds,True,511)"
   ]
  },
  {
   "cell_type": "code",
   "execution_count": 9,
   "metadata": {},
   "outputs": [],
   "source": [
    "X,y = undersampled_df.drop('Class',axis=1),undersampled_df['Class']"
   ]
  },
  {
   "cell_type": "markdown",
   "metadata": {},
   "source": [
    "# Logistic Regression"
   ]
  },
  {
   "cell_type": "code",
   "execution_count": 10,
   "metadata": {},
   "outputs": [
    {
     "name": "stdout",
     "output_type": "stream",
     "text": [
      "Fold 1\n",
      "AUC: 0.989795918367347\n",
      "Fold 2\n",
      "AUC: 0.9763966192537621\n",
      "Fold 3\n",
      "AUC: 0.9402185116470831\n",
      "Fold 4\n",
      "AUC: 0.9666048237476809\n",
      "Fold 5\n",
      "AUC: 0.9599125364431487\n"
     ]
    }
   ],
   "source": [
    "model = LogisticRegression()\n",
    "OOF_preds = y.copy()\n",
    "\n",
    "preds_rest = df_without_undersampled['Class'].copy()\n",
    "preds_rest.loc[:]=0\n",
    "preds_rest_true =df_without_undersampled['Class'].copy()\n",
    "\n",
    "for index, (tr,te) in enumerate(cv.split(X,y)):\n",
    "    print(f\"Fold {index+1}\")\n",
    "    model = LogisticRegression(max_iter=2000)\n",
    "    \n",
    "    model.fit(X.loc[tr],y.loc[tr])\n",
    "    \n",
    "    preds = model.predict_proba(X.loc[te])\n",
    "    OOF_preds.loc[te] = preds[:,1]\n",
    "    \n",
    "    preds_rest += model.predict_proba(df_without_undersampled.drop('Class',axis=1))[:,1]\n",
    "    \n",
    "    auc_score = roc_auc_score(y.loc[te],preds[:,1])\n",
    "    print(F\"AUC: {auc_score}\")"
   ]
  },
  {
   "cell_type": "code",
   "execution_count": 11,
   "metadata": {},
   "outputs": [
    {
     "name": "stdout",
     "output_type": "stream",
     "text": [
      "Out of fold: AUC 0.9651125322228832, log loss: 0.21345768857217542, precision: 0.9525862068965517\n",
      "Rest bad predicted: 7560.0\n",
      "Rest loss: 0.1547252666369188\n"
     ]
    }
   ],
   "source": [
    "OOF_auc = roc_auc_score(y,OOF_preds)\n",
    "OOF_log_loss = log_loss(y,OOF_preds)\n",
    "OOF_precision = precision_score(y,round(OOF_preds))\n",
    "print(F\"Out of fold: AUC {OOF_auc}, log loss: {OOF_log_loss}, precision: {OOF_precision}\")\n",
    "\n",
    "preds_rest/=n_folds\n",
    "loss = -np.mean([np.log(1-i + 1e-10) for i in preds_rest])\n",
    "print(f\"Rest bad predicted: {np.sum(round(preds_rest))}\")\n",
    "print(f\"Rest loss: {loss}\")"
   ]
  },
  {
   "cell_type": "code",
   "execution_count": 12,
   "metadata": {},
   "outputs": [
    {
     "data": {
      "image/png": "[encoded data removed]",
      "text/plain": [
       "<Figure size 432x288 with 1 Axes>"
      ]
     },
     "metadata": {
      "needs_background": "light"
     },
     "output_type": "display_data"
    }
   ],
   "source": [
    "fpr, tpr, thresholds = roc_curve(y,OOF_preds)\n",
    "roc_auc = auc(fpr,tpr)\n",
    "\n",
    "plt.title('Receiver Operating Characteristic')\n",
    "plt.plot(fpr, tpr, 'b',label='AUC = %0.2f'% roc_auc)\n",
    "plt.legend(loc='lower right')\n",
    "plt.plot([0,1],[0,1],'r--')\n",
    "plt.xlim([-0.1,1.0])\n",
    "plt.ylim([-0.1,1.01])\n",
    "plt.ylabel('True Positive Rate')\n",
    "plt.xlabel('False Positive Rate')\n",
    "plt.show()\n",
    "plt.show()"
   ]
  },
  {
   "cell_type": "code",
   "execution_count": 13,
   "metadata": {},
   "outputs": [
    {
     "data": {
      "image/png": "[encoded data removed]",
      "text/plain": [
       "<Figure size 432x288 with 2 Axes>"
      ]
     },
     "metadata": {
      "needs_background": "light"
     },
     "output_type": "display_data"
    }
   ],
   "source": [
    "cm = confusion_matrix(y,round(OOF_preds))\n",
    "\n",
    "sns.heatmap(cm,cmap=plt.cm.Blues).set_title('Confusion matrix')\n",
    "\n",
    "plt.tight_layout()\n",
    "thresh = cm.max() / 2.\n",
    "\n",
    "for i, j in itertools.product(range(cm.shape[0]), range(cm.shape[1])):\n",
    "    plt.text(j+0.5, i+0.5, cm[i, j],\n",
    "    horizontalalignment=\"center\",\n",
    "    color=\"white\" if cm[i, j] > thresh else \"black\")\n",
    "        \n",
    "plt.ylabel('True label')\n",
    "plt.xlabel('Predicted label')\n",
    "plt.show()"
   ]
  },
  {
   "cell_type": "code",
   "execution_count": 14,
   "metadata": {},
   "outputs": [],
   "source": [
    "logistic_regression_preds = OOF_preds.copy()"
   ]
  },
  {
   "cell_type": "markdown",
   "metadata": {},
   "source": [
    "# SVC"
   ]
  },
  {
   "cell_type": "code",
   "execution_count": 15,
   "metadata": {},
   "outputs": [
    {
     "name": "stdout",
     "output_type": "stream",
     "text": [
      "Fold 1\n",
      "AUC: 0.6036384250669965\n",
      "Fold 2\n",
      "AUC: 0.5381364667078953\n",
      "Fold 3\n",
      "AUC: 0.5228818800247372\n",
      "Fold 4\n",
      "AUC: 0.6042053184910328\n",
      "Fold 5\n",
      "AUC: 0.5510204081632653\n"
     ]
    }
   ],
   "source": [
    "OOF_preds = y.copy()\n",
    "\n",
    "preds_rest = df_without_undersampled['Class'].copy()\n",
    "preds_rest.loc[:]=0\n",
    "preds_rest_true =df_without_undersampled['Class'].copy()\n",
    "\n",
    "for index, (tr,te) in enumerate(cv.split(X,y)):\n",
    "    print(f\"Fold {index+1}\")\n",
    "    model = SVC(kernel='sigmoid')\n",
    "    \n",
    "    model.fit(X.loc[tr],y.loc[tr])\n",
    "    \n",
    "    preds = model.predict(X.loc[te])\n",
    "    OOF_preds.loc[te] = preds\n",
    "    \"\"\n",
    "    preds_rest += model.predict(df_without_undersampled.drop('Class',axis=1))\n",
    "    \n",
    "    auc_score = roc_auc_score(y.loc[te],preds)\n",
    "    print(F\"AUC: {auc_score}\")"
   ]
  },
  {
   "cell_type": "code",
   "execution_count": 16,
   "metadata": {},
   "outputs": [
    {
     "name": "stdout",
     "output_type": "stream",
     "text": [
      "Out of fold: AUC 0.5640243902439025, precision: 0.5618860510805501\n",
      "Rest bad predicted: 139964.0\n"
     ]
    }
   ],
   "source": [
    "OOF_auc = roc_auc_score(y,OOF_preds)\n",
    "OOF_precision = precision_score(y,OOF_preds)\n",
    "print(F\"Out of fold: AUC {OOF_auc}, precision: {OOF_precision}\")\n",
    "\n",
    "preds_rest/=n_folds\n",
    "print(f\"Rest bad predicted: {np.sum(round(preds_rest))}\")"
   ]
  },
  {
   "cell_type": "code",
   "execution_count": 17,
   "metadata": {},
   "outputs": [
    {
     "data": {
      "image/png": "[encoded data removed]",
      "text/plain": [
       "<Figure size 432x288 with 2 Axes>"
      ]
     },
     "metadata": {
      "needs_background": "light"
     },
     "output_type": "display_data"
    }
   ],
   "source": [
    "cm = confusion_matrix(y,OOF_preds)\n",
    "\n",
    "sns.heatmap(cm,cmap=plt.cm.Blues).set_title('Confusion matrix')\n",
    "\n",
    "plt.tight_layout()\n",
    "thresh = cm.max() / 2.\n",
    "\n",
    "for i, j in itertools.product(range(cm.shape[0]), range(cm.shape[1])):\n",
    "    plt.text(j+0.5, i+0.5, cm[i, j],\n",
    "    horizontalalignment=\"center\",\n",
    "    color=\"white\" if cm[i, j] > thresh else \"black\")\n",
    "        \n",
    "plt.ylabel('True label')\n",
    "plt.xlabel('Predicted label')\n",
    "plt.show()"
   ]
  },
  {
   "cell_type": "code",
   "execution_count": null,
   "metadata": {},
   "outputs": [],
   "source": []
  }
 ],
 "metadata": {
  "kernelspec": {
   "display_name": ".ML_ENV",
   "language": "python",
   "name": ".ml_env"
  },
  "language_info": {
   "codemirror_mode": {
    "name": "ipython",
    "version": 3
   },
   "file_extension": ".py",
   "mimetype": "text/x-python",
   "name": "python",
   "nbconvert_exporter": "python",
   "pygments_lexer": "ipython3",
   "version": "3.7.6"
  }
 },
 "nbformat": 4,
 "nbformat_minor": 4
}
